{
  "cells": [
    {
      "cell_type": "markdown",
      "metadata": {
        "id": "view-in-github",
        "colab_type": "text"
      },
      "source": [
        "<a href=\"https://colab.research.google.com/github/Mochi-Moch1/wandb-introduction/blob/main/%E5%85%A5%E9%96%80Weights_%26_Biases.ipynb\" target=\"_parent\"><img src=\"https://colab.research.google.com/assets/colab-badge.svg\" alt=\"Open In Colab\"/></a>"
      ]
    },
    {
      "cell_type": "markdown",
      "metadata": {
        "id": "REmQ2a71j7Ku"
      },
      "source": [
        "<img src=\"http://wandb.me/logo-im-png\" width=\"400\" alt=\"Weights & Biases\" />\n",
        "<!--- @wandbcode{intro-colab} -->"
      ]
    },
    {
      "cell_type": "markdown",
      "metadata": {
        "id": "9WQWaExij7Kv"
      },
      "source": [
        "\n",
        "# WandB入門\n",
        "[Weights & Biases](https://wandb.ai)について、学んでいきましょう。"
      ]
    },
    {
      "cell_type": "markdown",
      "metadata": {
        "id": "l7TbrZ5Kj7Kv"
      },
      "source": [
        "## 🔧 WandBのセットアップ\n",
        "\n",
        "記事の「WandBへの登録とAPIキーの取得」を終えた方は、\n",
        "WandBのインストールとログインを行っていきましょう。\n",
        "\n"
      ]
    },
    {
      "cell_type": "code",
      "execution_count": null,
      "metadata": {
        "id": "CcS1_BhYj7Kw"
      },
      "outputs": [],
      "source": [
        "!pip install wandb -qU"
      ]
    },
    {
      "cell_type": "markdown",
      "source": [
        "ログインの際にはAPIキーを求められるので、先ほど作成したAPIキーを入力してください。"
      ],
      "metadata": {
        "id": "5qQrTSs6s7TJ"
      }
    },
    {
      "cell_type": "code",
      "execution_count": null,
      "metadata": {
        "id": "1hnIrEDXj7Kw"
      },
      "outputs": [],
      "source": [
        "import wandb\n",
        "wandb.login()"
      ]
    },
    {
      "cell_type": "markdown",
      "metadata": {
        "id": "4pi-CbS1j7Kx"
      },
      "source": [
        "## 💻 WandBの使い方"
      ]
    },
    {
      "cell_type": "markdown",
      "source": [
        "1️⃣. 初期化"
      ],
      "metadata": {
        "id": "ShPqFlbgtUoz"
      }
    },
    {
      "cell_type": "code",
      "source": [
        "import wandb\n",
        "wandb.init(project=\"my-project\")"
      ],
      "metadata": {
        "id": "cLDDmWIiK5A1"
      },
      "execution_count": null,
      "outputs": []
    },
    {
      "cell_type": "markdown",
      "source": [
        "2️⃣. ハイパーパラメータの保存"
      ],
      "metadata": {
        "id": "OHRfsi8vtaBn"
      }
    },
    {
      "cell_type": "code",
      "source": [
        "wandb.config.epochs = 10"
      ],
      "metadata": {
        "id": "4yo9x4pxMN9Z"
      },
      "execution_count": null,
      "outputs": []
    },
    {
      "cell_type": "markdown",
      "source": [
        "3️⃣. 学習時の評価値を記録"
      ],
      "metadata": {
        "id": "WmYKMeQ3tgxS"
      }
    },
    {
      "cell_type": "code",
      "source": [
        "import random\n",
        "offset = random.random() / 5\n",
        "for epoch in range(2, wandb.config.epochs): # 保存したハイパーパラメータを使用\n",
        "    accuracy = 1 - 2 ** -epoch - random.random() / epoch + offset\n",
        "    loss = 2 ** -epoch + random.random() / epoch - offset\n",
        "    \n",
        "    # WandBへの記録\n",
        "    wandb.log({\"accuracy\": accuracy, \"loss\": loss})\n",
        "# WandBへ実行の終了を知らせる\n",
        "wandb.finish()"
      ],
      "metadata": {
        "id": "80FCajtOM6YB"
      },
      "execution_count": null,
      "outputs": []
    },
    {
      "cell_type": "markdown",
      "source": [
        "## 📣 通知の送信"
      ],
      "metadata": {
        "id": "EDpGPvS-ttzF"
      }
    },
    {
      "cell_type": "code",
      "source": [
        "import wandb\n",
        "wandb.init(project=\"sample-alert\")\n",
        "\n",
        "accuracy = 0.9\n",
        "# 通知の送信\n",
        "wandb.alert(\n",
        "    title=\"WandBからの通知\", \n",
        "    text=f\"今の正解率は {accuracy} です。\"\n",
        ")\n",
        "\n",
        "wandb.finish()"
      ],
      "metadata": {
        "id": "VS2tf3JU0DJq"
      },
      "execution_count": null,
      "outputs": []
    },
    {
      "cell_type": "markdown",
      "source": [
        "自身のメールボックスを確認してみましょう。"
      ],
      "metadata": {
        "id": "aE91yHkG2bEl"
      }
    },
    {
      "cell_type": "markdown",
      "source": [
        "## 🎉 まとめ"
      ],
      "metadata": {
        "id": "TZTo-r_16tny"
      }
    },
    {
      "cell_type": "code",
      "execution_count": null,
      "metadata": {
        "id": "Z2mlFMzxj7Kx"
      },
      "outputs": [],
      "source": [
        "import wandb\n",
        "import random\n",
        "\n",
        "total_runs = 5\n",
        "\n",
        "# 5回実行する\n",
        "for run in range(total_runs):\n",
        "  # 初期化\n",
        "  wandb.init(\n",
        "      # プロジェクト名を設定\n",
        "      project=\"total-project\", \n",
        "      # 実行名をつける(これまでのように、指定しない場合は、自動で作成してくれます）\n",
        "      name=f\"run_{run}\", \n",
        "      # ハイパーパラメータ等の情報を保存\n",
        "      config={\n",
        "      \"learning_rate\": 0.02,\n",
        "      \"architecture\": \"CNN\",\n",
        "      \"dataset\": \"CIFAR-100\",\n",
        "      \"epochs\": 10,\n",
        "      })\n",
        "  \n",
        "  # 学習ループ\n",
        "  epochs = 10\n",
        "  offset = random.random() / 5\n",
        "  for epoch in range(2, epochs):\n",
        "      accuracy = 1 - 2 ** -epoch - random.random() / epoch - offset\n",
        "      loss = 2 ** -epoch + random.random() / epoch + offset\n",
        "      \n",
        "      # 評価値の記録\n",
        "      wandb.log({\"accuracy\": accuracy, \"loss\": loss})\n",
        "\n",
        "  # 通知の送信\n",
        "  if run >= 4:\n",
        "    wandb.alert(\n",
        "        title='学習が完了しました。',\n",
        "        text=f'5回目の正解率は {accuracy} でした。',\n",
        "    )\n",
        "  \n",
        "  # 実行の終了を伝える\n",
        "  wandb.finish()"
      ]
    },
    {
      "cell_type": "markdown",
      "source": [
        "WandBのダッシュボード👆　を確認してみましょう！"
      ],
      "metadata": {
        "id": "_clORk8e_SZX"
      }
    }
  ],
  "metadata": {
    "kernelspec": {
      "display_name": "Python 3.9.12 64-bit",
      "language": "python",
      "name": "python3"
    },
    "colab": {
      "provenance": [],
      "private_outputs": true,
      "include_colab_link": true
    },
    "gpuClass": "standard"
  },
  "nbformat": 4,
  "nbformat_minor": 0
}